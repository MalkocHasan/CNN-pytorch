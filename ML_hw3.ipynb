{
  "cells": [
    {
      "cell_type": "markdown",
      "id": "ad13ba75",
      "metadata": {
        "id": "ad13ba75"
      },
      "source": [
        "## Transfer Learning Using CNN"
      ]
    },
    {
      "cell_type": "markdown",
      "id": "57c24f5e",
      "metadata": {
        "id": "57c24f5e"
      },
      "source": [
        "\n",
        "\n",
        "With transfer learning, instead of starting the learning process from scratch, you start from patterns that have been learned when solving a new related problem. So we reuse initial and middle layers of our pre-trained model to re-train only final layers for our new task. A pre-trained model denotes a model that was trained on a large benchmark dataset to solve a problem similar to the one that we want to solve.\n",
        "\n",
        "\n",
        "Fine tuning is a way of appliying or utilizing transfer learning. Specifically fine tuning is a process that takes a model that's already been trained for a given task and then tuning or tweaking that model to make it perform a second similiar task. If the two tasks are different and there will be some information that the model has learned that may not apply to our new task or there may be new information that the model needs to learn from the data regarding the new task that wasn't learned from the previous task. \n",
        "\n"
      ]
    },
    {
      "cell_type": "markdown",
      "id": "2c7dabbb",
      "metadata": {
        "id": "2c7dabbb"
      },
      "source": [
        "### Assignment\n"
      ]
    },
    {
      "cell_type": "markdown",
      "id": "f05f172c",
      "metadata": {
        "id": "f05f172c"
      },
      "source": [
        "In this assignment, you will implement a transfer learning approach by using clinical images for a binary image classification task. The dataset consists of skin cancer images which are labeled as melanomas, nevus, and seborrheic keratoses. You will show the ability of your CNN to distinguish between malignant melanoma and benign skin lesions (nevus, seborrheic keratosis).  So you will create a binary classification model for Melanoma vs Nevus and Seborrheic keratosis. You will use pre-trained models which are two different CNN architectures (VGG16 and ResNet50) available in Pytorch [1]. Follow the steps below  to complete the assignment.\n",
        "\n",
        "[1]: https://pytorch.org/vision/stable/models.html"
      ]
    },
    {
      "cell_type": "markdown",
      "id": "76db1667",
      "metadata": {
        "id": "76db1667"
      },
      "source": [
        "**Steps**:\n",
        "\n",
        "![2.PNG](attachment:2.PNG)\n",
        "\n",
        "\n",
        "- Obtain the pre-trained model\n",
        "\n",
        "The first step is to get the pre-trained model that is already given to you. You get pre-trained weights alongside each model. When you download a model, the weights are downloaded automatically. \n",
        "\n",
        "TorchVision offers pre-trained weights for every provided architecture, using the PyTorch *torch.hub* [2]. Instancing a pre-trained model will download its weights to a cache directory. This directory can be set using the TORCH_HOME environment variable. See *torch.hub.load_state_dict_from_url()*[3] for details.`\n",
        "\n",
        "- Create a base model\n",
        "\n",
        "The first step is to instantiate the base model using the architectures as VGG16 and ResNet50 separately. Download the pre-trained weights. If you don’t download the weights, you will have to use the architecture to train your model from scratch. Recall that the base model will usually have more units in the final output layer than you require. When creating the base model, you, therefore, have to remove the final output layer. Later on, you will add a final output layer that is compatible with your problem. \n",
        "\n",
        "- Freeze layers so they don’t change during training\n",
        "\n",
        "Freezing the layers from the pre-trained model is important when using transfer learning or fine-tuning the model. This is because you don't want the weights in those layers to be significantly altered, as this may degrade the model's pre-existing knowledge. If the weights are changed too much, then the benefits of using a pre-trained model could be diminished, making it similar to training the model from scratch. However, it's worth noting that in some cases, fine-tuning might involve updating the weights of the pre-trained model, but with a smaller learning rate, so that the pre-existing knowledge is fine-tuned to the new task without being lost entirely. In such cases, the layers are not frozen but are still carefully updated to prevent losing the initial learning. \n",
        "\n",
        "- Add new trainable layers\n",
        "\n",
        "The next step is to add new trainable layers that will turn old features into predictions on the new dataset. This is important because the pre-trained model is loaded without the final output layer. \n",
        "\n",
        "- Train the new layers on the dataset\n",
        "\n",
        "Remember that the pre-trained model’s final output will most likely be different from the output that you want for your model.  You will add some new dense layers as you please, but most importantly, a final dense layer with units corresponding to the number of outputs expected by your model. \n",
        "\n",
        "- Improve the model via fine-tuning\n",
        "\n",
        "Once you have done the previous step, you will have a model that can make predictions on your dataset. Now improve its performance through fine-tuning.\n",
        "\n",
        "- Summarize history for accuracy\n",
        "\n",
        "Plot a graph to demonstrate accuracy scores in train versus test sets. In your plot use x-axes for epoch and y a-axes for accuracy scores.\n",
        "\n",
        "\n",
        "[2]: https://pytorch.org/docs/stable/hub.html#torch.hub.load_state_dict_from_url\n",
        "[3]: https://pytorch.org/docs/stable/hub.html#module-torch.hub\n"
      ]
    },
    {
      "cell_type": "markdown",
      "id": "1316c961",
      "metadata": {
        "id": "1316c961"
      },
      "source": [
        "## Submission\n",
        "\n",
        "After training your models with the training and validation data, use the given test data for your predictions. In order to rank your results, you need to save your test results in a CSV file containing your test predictions like sample_predictions.csv and upload the test CSV file to the Kaggle competition. Furthermore, you are supposed to upload your coding in Jupyter notebook to the department's submission system.\n",
        "\n",
        "Kaggle competition for VGG16 architecture: https://www.kaggle.com/t/7ee370dd307a47b8b182683a1e2f4a7f\n",
        "\n",
        "Kaggle competition for ResNet50 architecture: https://www.kaggle.com/t/7f94629daea34740b9c21737e6b772a8\n",
        "\n",
        "**Due Date**: 18.05.2023\n",
        "\n",
        "**Note**: The late submission rules previously announced from the piazza apply."
      ]
    },
    {
      "cell_type": "markdown",
      "id": "f5fe9553",
      "metadata": {
        "id": "f5fe9553"
      },
      "source": [
        "### Your Work\n"
      ]
    },
    {
      "cell_type": "code",
      "execution_count": 63,
      "id": "992280b2",
      "metadata": {
        "id": "992280b2"
      },
      "outputs": [],
      "source": [
        "import torch\n",
        "import torch.nn as nn\n",
        "import torch.optim as optim\n",
        "import torchvision.models as models\n",
        "import torchvision.transforms as transforms\n",
        "import torchvision.datasets as datasets\n",
        "import gdown\n",
        "import zipfile\n",
        "from google.colab import drive\n",
        "import os\n",
        "from tqdm import tqdm\n",
        "from keras.preprocessing.image import ImageDataGenerator\n",
        "from torch.utils.data import DataLoader, Dataset\n",
        "from PIL import Image\n",
        "import glob\n",
        "import matplotlib.pyplot as plt\n",
        "from tqdm import tqdm\n",
        "import numpy as np\n",
        "import pandas as pd\n"
      ]
    },
    {
      "cell_type": "code",
      "source": [
        "drive.mount('/content/drive')\n",
        "data_dir = '/content/drive/MyDrive/BBM409_HW3_dataset'\n",
        "os.listdir(data_dir)"
      ],
      "metadata": {
        "colab": {
          "base_uri": "https://localhost:8080/"
        },
        "id": "bv9KNs6wyJAB",
        "outputId": "0f0a6612-76db-4f66-d621-c0fb628fecbc"
      },
      "id": "bv9KNs6wyJAB",
      "execution_count": 64,
      "outputs": [
        {
          "output_type": "stream",
          "name": "stdout",
          "text": [
            "Drive already mounted at /content/drive; to attempt to forcibly remount, call drive.mount(\"/content/drive\", force_remount=True).\n"
          ]
        },
        {
          "output_type": "execute_result",
          "data": {
            "text/plain": [
              "['test', 'train', 'valid']"
            ]
          },
          "metadata": {},
          "execution_count": 64
        }
      ]
    },
    {
      "cell_type": "code",
      "source": [
        "!cp -r '/content/drive/MyDrive/BBM409_HW3_dataset' /content/\n"
      ],
      "metadata": {
        "id": "q0VMvGkqobM3"
      },
      "id": "q0VMvGkqobM3",
      "execution_count": 65,
      "outputs": []
    },
    {
      "cell_type": "code",
      "execution_count": 66,
      "id": "58f96b66",
      "metadata": {
        "id": "58f96b66",
        "outputId": "bb426779-d3d0-4b23-983f-1a8a4de2ba0d",
        "colab": {
          "base_uri": "https://localhost:8080/"
        }
      },
      "outputs": [
        {
          "output_type": "stream",
          "name": "stdout",
          "text": [
            "8700\n",
            "True\n",
            "2.0.0+cu118\n"
          ]
        }
      ],
      "source": [
        "print(torch.backends.cudnn.version())\n",
        "print(torch.cuda.is_available())\n",
        "print(torch.__version__)\n"
      ]
    },
    {
      "cell_type": "code",
      "source": [
        "#to return the test folder as Dataset\n",
        "class CustomTestDataset(Dataset):\n",
        "    def __init__(self, data_dir, transform):\n",
        "        self.data_dir = data_dir\n",
        "        self.transform = transform\n",
        "        self.image_paths = glob.glob(os.path.join(data_dir, '*.jpg'))\n",
        "\n",
        "    def __len__(self):\n",
        "        return len(self.image_paths)\n",
        "\n",
        "    def __getitem__(self, idx):\n",
        "        image_path = self.image_paths[idx]\n",
        "        image = Image.open(image_path).convert('RGB')\n",
        "        image = self.transform(image)\n",
        "        return image"
      ],
      "metadata": {
        "id": "U9Ni397b6wur"
      },
      "id": "U9Ni397b6wur",
      "execution_count": 67,
      "outputs": []
    },
    {
      "cell_type": "markdown",
      "source": [
        "## PREPROCESSING"
      ],
      "metadata": {
        "id": "f5PvMx3JdJQt"
      },
      "id": "f5PvMx3JdJQt"
    },
    {
      "cell_type": "code",
      "execution_count": 68,
      "id": "c05f9109",
      "metadata": {
        "id": "c05f9109"
      },
      "outputs": [],
      "source": [
        "train_transforms = transforms.Compose([\n",
        "    transforms.Resize(256),\n",
        "    transforms.RandomCrop(224),\n",
        "    transforms.RandomHorizontalFlip(),\n",
        "    transforms.ToTensor(),\n",
        "    transforms.Normalize(mean=[0.485, 0.456, 0.406],\n",
        "                         std=[0.229, 0.224, 0.225])\n",
        "])\n",
        "valid_transforms = transforms.Compose([\n",
        "    transforms.Resize(256),\n",
        "    transforms.CenterCrop(224),\n",
        "    transforms.ToTensor(),\n",
        "    transforms.Normalize(mean=[0.485, 0.456, 0.406],\n",
        "                         std=[0.229, 0.224, 0.225])\n",
        "])\n",
        "\n",
        "\n",
        "train_dir = '/content/BBM409_HW3_dataset/train'\n",
        "valid_dir = '/content/BBM409_HW3_dataset/valid'\n",
        "test_dir = '/content/BBM409_HW3_dataset/test'\n",
        "train_dataset = datasets.ImageFolder(train_dir, transform=train_transforms)\n",
        "valid_dataset = datasets.ImageFolder(valid_dir, transform=valid_transforms)\n",
        "train_loader = torch.utils.data.DataLoader(train_dataset, batch_size=32, shuffle=True)\n",
        "valid_loader = torch.utils.data.DataLoader(valid_dataset, batch_size=32)\n",
        "test_dataset = CustomTestDataset(test_dir, transform=valid_transforms)\n",
        "test_loader = torch.utils.data.DataLoader(test_dataset, batch_size=32, shuffle=False)\n"
      ]
    },
    {
      "cell_type": "markdown",
      "source": [
        "## TRAIN RESNET-50 MODEL"
      ],
      "metadata": {
        "id": "8ASgAwZTdNzV"
      },
      "id": "8ASgAwZTdNzV"
    },
    {
      "cell_type": "code",
      "source": [
        "# obtain pre-trained models\n",
        "resnet50_model = torch.hub.load('pytorch/vision', 'resnet50', pretrained=True)\n",
        "vgg16_model = torch.hub.load('pytorch/vision', 'vgg16', pretrained=True)\n",
        "\n",
        "# Modify the output layers\n",
        "resnet50_model.fc = nn.Linear(resnet50_model.fc.in_features, 3)\n",
        "vgg16_model.classifier[6] = nn.Linear(vgg16_model.classifier[6].in_features, 3)\n",
        "\n",
        "# Freeze layers\n",
        "for param in resnet50_model.parameters():\n",
        "    param.requires_grad = False\n",
        "for param in resnet50_model.fc.parameters():\n",
        "    param.requires_grad = True\n",
        "\n",
        "for param in vgg16_model.parameters():\n",
        "    param.requires_grad = False\n",
        "for param in vgg16_model.classifier[6].parameters():\n",
        "    param.requires_grad = True\n",
        "\n",
        "\n",
        "#Lss functions and optimizers\n",
        "criterion = nn.CrossEntropyLoss()\n",
        "resnet50_optimizer = optim.Adam(resnet50_model.parameters())\n",
        "vgg16_optimizer = optim.Adam(vgg16_model.parameters())\n",
        "\n",
        "# Training and evaluation scores\n",
        "resnet50_train_acc_list = []\n",
        "vgg16_train_acc_list = []\n",
        "resnet50_valid_acc_list = []\n",
        "vgg16_valid_acc_list = []\n",
        "\n",
        "#train and validate in 4 epochs\n",
        "#I tested the model before for more than 4 epoches but I got the best results for 4 epochs. After that It does not improve the accuracy\n",
        "for epoch in range(4):\n",
        "    train_loss = [0.0, 0.0]\n",
        "    train_correct = [0, 0]\n",
        "    model_list = [resnet50_model, vgg16_model]\n",
        "    optimizer_list = [resnet50_optimizer, vgg16_optimizer]\n",
        "    model_names = [\"ResNet50\", \"VGG16\"]\n",
        "\n",
        "    for model_idx, model in enumerate(model_list):\n",
        "        model.train()\n",
        "        with tqdm(train_loader, unit=\"batch\") as tepoch:\n",
        "            for inputs, labels in tepoch:\n",
        "                optimizer_list[model_idx].zero_grad()\n",
        "                outputs = model(inputs)\n",
        "                loss = criterion(outputs, labels)\n",
        "                loss.backward()\n",
        "                optimizer_list[model_idx].step()\n",
        "                train_loss[model_idx] += loss.item() * inputs.size(0)\n",
        "                _, preds = torch.max(outputs, 1)\n",
        "                train_correct[model_idx] += torch.sum(preds == labels.data)\n",
        "                tepoch.set_postfix({\"Train Loss\": loss.item(), \"Train Acc\": train_correct[model_idx].double() / len(train_dataset)})\n",
        "\n",
        "        train_loss[model_idx] /= len(train_dataset)\n",
        "        train_acc = train_correct[model_idx].double() / len(train_dataset)\n",
        "        if model_idx == 0:\n",
        "            resnet50_train_acc_list.append(train_acc.item())\n",
        "        elif model_idx == 1:\n",
        "            vgg16_train_acc_list.append(train_acc.item())\n",
        "\n",
        "        # Validation\n",
        "        valid_loss = 0.0\n",
        "        valid_correct = 0\n",
        "        model.eval()\n",
        "        with torch.no_grad():\n",
        "            for inputs, labels in valid_loader:\n",
        "                outputs = model(inputs)\n",
        "                loss = criterion(outputs, labels)\n",
        "                valid_loss += loss.item() * inputs.size(0)\n",
        "                _, preds = torch.max(outputs, 1)\n",
        "                valid_correct += torch.sum(preds == labels.data)\n",
        "        valid_loss /= len(valid_dataset)\n",
        "        valid_acc = valid_correct.double() / len(valid_dataset)\n",
        "        if model_idx == 0:\n",
        "            resnet50_valid_acc_list.append(valid_acc.item())\n",
        "        elif model_idx == 1:\n",
        "            vgg16_valid_acc_list.append(valid_acc.item())\n"
      ],
      "metadata": {
        "colab": {
          "base_uri": "https://localhost:8080/"
        },
        "id": "rW8Zfvk9TcRN",
        "outputId": "5ba03911-9be6-4f71-f896-c0f1a434eadf"
      },
      "id": "rW8Zfvk9TcRN",
      "execution_count": 70,
      "outputs": [
        {
          "output_type": "stream",
          "name": "stderr",
          "text": [
            "Using cache found in /root/.cache/torch/hub/pytorch_vision_main\n",
            "Using cache found in /root/.cache/torch/hub/pytorch_vision_main\n",
            "100%|██████████| 63/63 [07:30<00:00,  7.15s/batch, Train Loss=0.814, Train Acc=tensor(0.6855, dtype=torch.float64)]\n",
            "100%|██████████| 63/63 [08:47<00:00,  8.37s/batch, Train Loss=1.46, Train Acc=tensor(0.6780, dtype=torch.float64)]\n",
            "100%|██████████| 63/63 [07:35<00:00,  7.23s/batch, Train Loss=0.672, Train Acc=tensor(0.6955, dtype=torch.float64)]\n",
            "100%|██████████| 63/63 [08:52<00:00,  8.45s/batch, Train Loss=0.7, Train Acc=tensor(0.6925, dtype=torch.float64)]\n",
            "100%|██████████| 63/63 [07:34<00:00,  7.21s/batch, Train Loss=0.675, Train Acc=tensor(0.7385, dtype=torch.float64)]\n",
            "100%|██████████| 63/63 [08:54<00:00,  8.49s/batch, Train Loss=0.616, Train Acc=tensor(0.6985, dtype=torch.float64)]\n",
            "100%|██████████| 63/63 [07:32<00:00,  7.18s/batch, Train Loss=0.852, Train Acc=tensor(0.7355, dtype=torch.float64)]\n",
            "100%|██████████| 63/63 [08:54<00:00,  8.49s/batch, Train Loss=0.63, Train Acc=tensor(0.7040, dtype=torch.float64)]\n"
          ]
        }
      ]
    },
    {
      "cell_type": "markdown",
      "source": [
        "## HISTORY OF ACCURACY"
      ],
      "metadata": {
        "id": "gCzUNH97dU57"
      },
      "id": "gCzUNH97dU57"
    },
    {
      "cell_type": "markdown",
      "source": [
        "I tested with 8 epoches before (it takes two hours to complete), I keep the results in the notebook"
      ],
      "metadata": {
        "id": "4H3ZAjgug2o5"
      },
      "id": "4H3ZAjgug2o5"
    },
    {
      "cell_type": "code",
      "source": [
        "# Plot ResNet50 accuracy\n",
        "plt.plot(range(1, len(resnet50_train_acc_list) + 1), resnet50_train_acc_list, label='Train')\n",
        "plt.plot(range(1, len(resnet50_valid_acc_list) + 1), resnet50_valid_acc_list, label='Validation')\n",
        "plt.xlabel('Epoch')\n",
        "plt.ylabel('Accuracy')\n",
        "plt.title('ResNet50 Accuracy Scores')\n",
        "plt.legend()\n",
        "plt.show()\n",
        "\n",
        "# Plot VGG16 accuracy\n",
        "plt.plot(range(1, len(vgg16_train_acc_list) + 1), vgg16_train_acc_list, label='Train')\n",
        "plt.plot(range(1, len(vgg16_valid_acc_list) + 1), vgg16_valid_acc_list, label='Validation')\n",
        "plt.xlabel('Epoch')\n",
        "plt.ylabel('Accuracy')\n",
        "plt.title('VGG16 Accuracy Scores')\n",
        "plt.legend()\n",
        "plt.show()"
      ],
      "metadata": {
        "id": "-3WxL4-fdW_m",
        "colab": {
          "base_uri": "https://localhost:8080/",
          "height": 927
        },
        "outputId": "29759061-45fe-4d54-94d5-7dd59cc478fd"
      },
      "id": "-3WxL4-fdW_m",
      "execution_count": 62,
      "outputs": [
        {
          "output_type": "display_data",
          "data": {
            "text/plain": [
              "<Figure size 640x480 with 1 Axes>"
            ],
            "image/png": "[encoded data removed]"
          },
          "metadata": {}
        },
        {
          "output_type": "display_data",
          "data": {
            "text/plain": [
              "<Figure size 640x480 with 1 Axes>"
            ],
            "image/png": "[encoded data removed]"
          },
          "metadata": {}
        }
      ]
    },
    {
      "cell_type": "markdown",
      "source": [
        "## PREDICTION ON TEST DATA"
      ],
      "metadata": {
        "id": "h1WUc59YdY7u"
      },
      "id": "h1WUc59YdY7u"
    },
    {
      "cell_type": "code",
      "source": [
        "def make_predictions(model, test_loader):\n",
        "    model.eval()\n",
        "    predictions = []\n",
        "    with torch.no_grad(), tqdm(test_loader, unit=\"batch\") as t:\n",
        "        for inputs in t:\n",
        "            outputs = model(inputs)\n",
        "            _, preds = torch.max(outputs, 1)\n",
        "            predictions += preds.cpu().numpy().tolist()\n",
        "            t.set_postfix({\"Prediction\": preds[0].item()})\n",
        "\n",
        "    return predictions\n",
        "\n",
        "\n",
        "resnet50_predictions = make_predictions(resnet50_model, test_loader)\n",
        "vgg16_predictions = make_predictions(vgg16_model, test_loader)\n",
        "\n",
        "\n",
        "print(\"ResNet50 predictions:\", resnet50_predictions)\n",
        "print(\"VGG16 predictions:\", vgg16_predictions)\n"
      ],
      "metadata": {
        "id": "iEIDZxG7deu-",
        "colab": {
          "base_uri": "https://localhost:8080/"
        },
        "outputId": "bd3372a8-85b1-41b7-aa3e-6c7d4cd554de"
      },
      "id": "iEIDZxG7deu-",
      "execution_count": 71,
      "outputs": [
        {
          "output_type": "stream",
          "name": "stderr",
          "text": [
            "100%|██████████| 19/19 [05:43<00:00, 18.10s/batch, Prediction=1]\n",
            "100%|██████████| 19/19 [06:09<00:00, 19.43s/batch, Prediction=1]"
          ]
        },
        {
          "output_type": "stream",
          "name": "stdout",
          "text": [
            "ResNet50 predictions: [1, 1, 1, 1, 1, 1, 1, 1, 1, 1, 1, 1, 1, 1, 1, 1, 1, 1, 1, 1, 1, 0, 1, 1, 1, 1, 1, 1, 1, 1, 1, 1, 1, 1, 1, 1, 1, 1, 1, 1, 1, 1, 1, 1, 1, 1, 0, 1, 1, 1, 1, 0, 1, 0, 1, 1, 1, 1, 2, 1, 1, 1, 1, 0, 1, 1, 1, 1, 0, 1, 1, 1, 1, 1, 1, 1, 1, 2, 1, 0, 1, 2, 1, 1, 1, 1, 1, 1, 1, 1, 1, 1, 1, 1, 1, 0, 1, 1, 1, 1, 2, 1, 1, 1, 2, 1, 1, 1, 1, 1, 1, 1, 1, 1, 1, 2, 1, 2, 1, 1, 1, 1, 1, 1, 1, 0, 2, 1, 1, 0, 1, 1, 1, 1, 1, 1, 1, 1, 1, 1, 1, 1, 1, 0, 1, 1, 0, 1, 1, 0, 1, 1, 1, 2, 1, 1, 1, 1, 1, 1, 1, 1, 0, 2, 1, 1, 1, 1, 1, 1, 1, 1, 1, 1, 1, 1, 1, 1, 0, 1, 1, 1, 0, 1, 1, 1, 1, 1, 1, 1, 0, 0, 1, 1, 1, 1, 1, 0, 1, 1, 2, 1, 1, 1, 1, 1, 1, 1, 1, 0, 1, 0, 1, 0, 1, 1, 1, 1, 1, 1, 2, 1, 1, 2, 1, 1, 1, 1, 1, 1, 1, 2, 1, 1, 1, 1, 1, 1, 1, 1, 1, 1, 2, 0, 1, 1, 1, 1, 1, 1, 1, 1, 2, 1, 1, 1, 2, 2, 1, 2, 1, 1, 1, 0, 1, 1, 1, 2, 1, 0, 1, 1, 1, 1, 1, 1, 1, 1, 1, 1, 2, 1, 1, 0, 1, 1, 1, 1, 1, 1, 2, 1, 1, 1, 1, 1, 1, 0, 1, 1, 1, 1, 1, 1, 1, 1, 1, 1, 1, 1, 1, 1, 1, 1, 1, 1, 2, 1, 1, 1, 1, 1, 1, 1, 1, 1, 2, 1, 2, 1, 1, 1, 1, 2, 1, 1, 1, 0, 1, 1, 1, 1, 1, 2, 1, 1, 1, 0, 1, 0, 1, 1, 1, 1, 1, 2, 1, 1, 1, 1, 1, 1, 2, 1, 1, 1, 1, 1, 1, 1, 1, 1, 1, 1, 1, 1, 1, 1, 1, 1, 0, 1, 1, 1, 1, 1, 1, 1, 1, 1, 1, 1, 1, 1, 1, 2, 1, 1, 1, 1, 1, 1, 1, 1, 1, 1, 1, 1, 0, 1, 1, 0, 1, 1, 1, 1, 1, 1, 1, 1, 1, 1, 1, 2, 1, 1, 1, 1, 2, 1, 1, 1, 1, 0, 1, 2, 1, 1, 1, 1, 1, 1, 1, 1, 1, 2, 1, 1, 1, 1, 1, 1, 1, 1, 1, 0, 1, 1, 1, 1, 1, 1, 1, 1, 1, 1, 1, 1, 1, 1, 2, 0, 1, 1, 1, 1, 1, 1, 1, 1, 1, 1, 1, 1, 1, 0, 1, 1, 1, 1, 1, 1, 1, 1, 1, 1, 1, 1, 1, 1, 1, 1, 1, 1, 1, 1, 1, 1, 1, 2, 2, 1, 1, 2, 1, 1, 0, 1, 1, 1, 1, 1, 1, 0, 1, 2, 2, 1, 1, 1, 1, 1, 1, 0, 2, 1, 1, 1, 1, 1, 1, 1, 1, 1, 1, 2, 2, 1, 1, 1, 1, 1, 2, 1, 1, 1, 1, 1, 1, 1, 0, 1, 1, 1, 1, 1, 1, 0, 1, 1, 2, 1, 1, 1, 0, 1, 1, 1, 1, 2, 1, 1, 1, 1, 1, 1, 1, 1, 1, 1, 1, 1, 1, 0, 0, 1, 2, 1, 1, 1]\n",
            "VGG16 predictions: [1, 1, 1, 0, 1, 1, 2, 1, 1, 1, 1, 1, 1, 1, 1, 1, 1, 2, 1, 1, 1, 0, 1, 1, 1, 1, 1, 1, 0, 1, 1, 1, 1, 1, 2, 1, 1, 1, 1, 1, 1, 1, 1, 1, 1, 1, 0, 1, 1, 1, 1, 0, 1, 1, 1, 1, 1, 1, 1, 1, 1, 1, 1, 1, 1, 1, 0, 1, 0, 1, 1, 1, 1, 1, 1, 1, 1, 2, 1, 1, 1, 1, 1, 1, 1, 1, 1, 2, 1, 1, 1, 1, 1, 1, 1, 1, 1, 1, 0, 1, 2, 1, 1, 1, 2, 1, 0, 1, 1, 1, 1, 1, 1, 1, 1, 2, 1, 1, 1, 1, 1, 1, 1, 1, 1, 2, 2, 1, 1, 2, 2, 1, 1, 1, 1, 1, 1, 1, 1, 1, 1, 1, 1, 2, 1, 1, 0, 1, 2, 0, 1, 1, 1, 1, 1, 1, 1, 1, 1, 1, 1, 1, 0, 1, 1, 1, 1, 1, 1, 1, 1, 1, 1, 1, 1, 1, 1, 1, 0, 1, 1, 1, 1, 1, 2, 1, 1, 1, 2, 1, 1, 2, 1, 1, 1, 1, 1, 0, 1, 1, 1, 2, 1, 1, 1, 1, 1, 1, 1, 0, 1, 1, 2, 1, 1, 1, 1, 1, 1, 1, 2, 1, 1, 1, 1, 2, 1, 1, 1, 1, 1, 2, 1, 1, 2, 1, 2, 1, 1, 1, 1, 1, 2, 1, 1, 1, 1, 1, 1, 1, 1, 1, 1, 1, 1, 1, 0, 1, 1, 2, 1, 1, 1, 1, 2, 1, 1, 2, 1, 0, 1, 2, 1, 1, 1, 1, 1, 1, 1, 1, 2, 1, 0, 1, 1, 1, 1, 2, 1, 1, 2, 1, 1, 1, 1, 1, 1, 1, 1, 1, 1, 1, 1, 1, 1, 2, 1, 1, 1, 2, 1, 1, 1, 1, 1, 1, 1, 1, 1, 1, 1, 1, 1, 1, 1, 2, 1, 1, 2, 1, 1, 1, 1, 2, 1, 1, 1, 1, 1, 1, 1, 1, 1, 2, 1, 1, 1, 2, 1, 0, 1, 1, 1, 1, 1, 2, 1, 1, 1, 2, 1, 1, 2, 1, 1, 1, 1, 1, 1, 2, 1, 1, 1, 0, 1, 1, 1, 2, 0, 1, 0, 1, 1, 1, 1, 1, 1, 1, 1, 1, 1, 1, 1, 1, 1, 2, 1, 1, 1, 2, 1, 1, 1, 2, 1, 2, 2, 1, 1, 1, 1, 1, 1, 1, 1, 1, 1, 1, 2, 1, 1, 1, 1, 0, 1, 1, 2, 1, 2, 1, 1, 1, 1, 1, 1, 2, 1, 1, 1, 0, 1, 1, 1, 1, 1, 2, 1, 1, 1, 1, 1, 2, 1, 1, 1, 1, 1, 1, 1, 1, 1, 1, 1, 2, 1, 1, 1, 1, 1, 0, 2, 1, 1, 1, 1, 1, 1, 1, 1, 1, 1, 1, 1, 1, 1, 1, 1, 2, 1, 1, 1, 2, 2, 1, 0, 1, 1, 1, 1, 0, 2, 1, 1, 1, 1, 2, 1, 1, 1, 2, 2, 2, 0, 2, 1, 1, 1, 1, 1, 1, 1, 1, 1, 0, 2, 1, 0, 1, 0, 0, 1, 2, 1, 0, 2, 1, 1, 1, 2, 1, 1, 1, 1, 1, 1, 2, 2, 1, 1, 1, 1, 1, 2, 1, 1, 2, 1, 1, 1, 1, 2, 1, 1, 1, 1, 1, 1, 2, 2, 1, 1, 1, 1, 1, 0, 1, 1, 1, 1, 2, 1, 1, 1, 1, 1, 1, 1, 1, 1, 1, 1, 1, 1, 1, 1, 2, 1, 1, 1, 1]\n"
          ]
        },
        {
          "output_type": "stream",
          "name": "stderr",
          "text": [
            "\n"
          ]
        }
      ]
    },
    {
      "cell_type": "markdown",
      "source": [
        "## CSV OUTPUTS"
      ],
      "metadata": {
        "id": "Rb9wIaffhXIy"
      },
      "id": "Rb9wIaffhXIy"
    },
    {
      "cell_type": "code",
      "source": [
        "def save_predictions_to_csv(predictions, filename, test_dir):\n",
        "    predictions = np.array(predictions)\n",
        "    test_image_names = os.listdir(test_dir)\n",
        "    df = pd.DataFrame({'Id': test_image_names, 'label': predictions})\n",
        "    df.to_csv(filename, index=False)\n",
        "\n",
        "\n",
        "# CSV OUTPUTS\n",
        "save_predictions_to_csv(resnet50_predictions, 'resnet50.csv', test_dir)\n",
        "save_predictions_to_csv(vgg16_predictions, 'vgg16.csv', test_dir)"
      ],
      "metadata": {
        "id": "zph4Pdq2UPf4"
      },
      "id": "zph4Pdq2UPf4",
      "execution_count": 72,
      "outputs": []
    }
  ],
  "metadata": {
    "kernelspec": {
      "display_name": "Python 3",
      "language": "python",
      "name": "python3"
    },
    "language_info": {
      "codemirror_mode": {
        "name": "ipython",
        "version": 3
      },
      "file_extension": ".py",
      "mimetype": "text/x-python",
      "name": "python",
      "nbconvert_exporter": "python",
      "pygments_lexer": "ipython3",
      "version": "3.10.10"
    },
    "colab": {
      "provenance": [],
      "gpuType": "A100",
      "machine_shape": "hm"
    },
    "accelerator": "GPU",
    "gpuClass": "standard"
  },
  "nbformat": 4,
  "nbformat_minor": 5
}